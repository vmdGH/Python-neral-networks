{
 "cells": [
  {
   "cell_type": "code",
   "execution_count": 1,
   "id": "a88eba12-8dde-418f-91f5-ef2e25628802",
   "metadata": {},
   "outputs": [],
   "source": [
    "import numpy as np"
   ]
  },
  {
   "cell_type": "code",
   "execution_count": 2,
   "id": "e277a260-5fe5-4878-bfa7-b14cb5214dfc",
   "metadata": {},
   "outputs": [],
   "source": [
    "def f(x):\n",
    "    return 2/(1 + np.exp(-x)) - 1 # гиперболический тангенс\n",
    "\n",
    "def df(x):\n",
    "    return 0.5*(1 + x)*(1 - x) # производная"
   ]
  },
  {
   "cell_type": "code",
   "execution_count": 3,
   "id": "1e224dd1-6c63-4baf-98bf-5b23c69d1363",
   "metadata": {},
   "outputs": [],
   "source": [
    "#Начальные веса модели\n",
    "W1 = np.array([[-0.2, 0.3, -0.4], [0.1, -0.3, -0.4]])\n",
    "W2 = np.array([0.2, 0.3])"
   ]
  },
  {
   "cell_type": "code",
   "execution_count": 4,
   "id": "c7930040-e01d-4f8d-b119-5d109b87d606",
   "metadata": {},
   "outputs": [],
   "source": [
    "# Один проход по сети\n",
    "def go_forward(inp):\n",
    "    sum = np.dot(W1, inp)\n",
    "    out = np.array([f(x) for x in sum])\n",
    "\n",
    "    sum = np.dot(W2, out)\n",
    "    y = f(sum)\n",
    "    return (y, out)"
   ]
  },
  {
   "cell_type": "markdown",
   "id": "a62396f4-22d5-4574-aee8-be7f5342afa6",
   "metadata": {},
   "source": [
    "Тренировка нейронной сети - это подбор коэффициентов w таких, чтоб функция потерь была минимальна"
   ]
  },
  {
   "cell_type": "code",
   "execution_count": 5,
   "id": "af6afd7d-4e87-49e0-a85a-7cfd5da81e44",
   "metadata": {},
   "outputs": [],
   "source": [
    "def train(epoch):\n",
    "    global W2, W1\n",
    "    lmd = 0.01          # шаг обучения\n",
    "    N = 10000           # число итераций при обучении\n",
    "    count = len(epoch)\n",
    "    for k in range(N):\n",
    "        x = epoch[np.random.randint(0, count)]  # случайных выбор входного сигнала из обучающей выборки\n",
    "        y, out = go_forward(x[0:3])             # прямой проход по НС и вычисление выходных значений нейронов\n",
    "        e = y - x[-1]                           # ошибка\n",
    "        delta = e*df(y)                         # локальный градиент\n",
    "        W2[0] = W2[0] - lmd * delta * out[0]    # корректировка веса первой связи\n",
    "        W2[1] = W2[1] - lmd * delta * out[1]    # корректировка веса второй связи\n",
    "\n",
    "        delta2 = W2*delta*df(out)               # вектор из 2-х величин локальных градиентов\n",
    "\n",
    "        # корректировка связей первого слоя\n",
    "        W1[0, :] = W1[0, :] - np.array(x[0:3]) * delta2[0] * lmd\n",
    "        W1[1, :] = W1[1, :] - np.array(x[0:3]) * delta2[1] * lmd\n"
   ]
  },
  {
   "cell_type": "code",
   "execution_count": 6,
   "id": "782e9533-485d-4383-8846-b0c129c8f1b2",
   "metadata": {},
   "outputs": [],
   "source": [
    "# обучающая выборка (она же полная выборка)\n",
    "epoch = [(-1, -1, -1, -1),\n",
    "         (-1, -1, 1, 1),\n",
    "         (-1, 1, -1, -1),\n",
    "         (-1, 1, 1, 1),\n",
    "         (1, -1, -1, -1),\n",
    "         (1, -1, 1, 1),\n",
    "         (1, 1, -1, -1),\n",
    "         (1, 1, 1, -1)]"
   ]
  },
  {
   "cell_type": "code",
   "execution_count": 13,
   "id": "e221ae61-f178-442d-b80e-f80c768c050f",
   "metadata": {},
   "outputs": [],
   "source": [
    "train(epoch)        # запуск обучения сети"
   ]
  },
  {
   "cell_type": "code",
   "execution_count": 8,
   "id": "cf3497e4-68d9-4831-9a20-14d87567c54a",
   "metadata": {},
   "outputs": [
    {
     "name": "stdout",
     "output_type": "stream",
     "text": [
      "Выходное значение НС: -0.07442748026967683 => -1\n",
      "Выходное значение НС: 0.9361238525612292 => 1\n",
      "Выходное значение НС: -0.8765194967704146 => -1\n",
      "Выходное значение НС: 0.8832307509913393 => 1\n",
      "Выходное значение НС: -0.8832307509913392 => -1\n",
      "Выходное значение НС: 0.8765194967704146 => 1\n",
      "Выходное значение НС: -0.936123852561229 => -1\n",
      "Выходное значение НС: 0.07442748026967694 => -1\n"
     ]
    }
   ],
   "source": [
    "# проверка полученных результатов\n",
    "for x in epoch:\n",
    "    y, out = go_forward(x[0:3])\n",
    "    print(f\"Выходное значение НС: {y} => {x[-1]}\")"
   ]
  },
  {
   "cell_type": "code",
   "execution_count": null,
   "id": "9b6ea7f8-6584-4262-b2e6-eea17d68ed8e",
   "metadata": {},
   "outputs": [],
   "source": []
  }
 ],
 "metadata": {
  "kernelspec": {
   "display_name": "Python 3 (ipykernel)",
   "language": "python",
   "name": "python3"
  },
  "language_info": {
   "codemirror_mode": {
    "name": "ipython",
    "version": 3
   },
   "file_extension": ".py",
   "mimetype": "text/x-python",
   "name": "python",
   "nbconvert_exporter": "python",
   "pygments_lexer": "ipython3",
   "version": "3.9.13"
  }
 },
 "nbformat": 4,
 "nbformat_minor": 5
}
